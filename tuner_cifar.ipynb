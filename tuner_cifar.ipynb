{
 "cells": [
  {
   "cell_type": "code",
   "execution_count": 6,
   "metadata": {},
   "outputs": [],
   "source": [
    "import numpy as np\n",
    "import matplotlib.pyplot as plt\n",
    "import datetime\n",
    "import os\n",
    "import random\n",
    "\n",
    "from google.cloud import storage\n",
    "\n",
    "import tensorflow as tf\n",
    "from tensorflow.keras import layers\n",
    "from tensorflow.keras import regularizers\n",
    "from tensorflow.keras import datasets\n",
    "\n",
    "from keras.layers import Input, Lambda, Dense, Flatten, Dropout\n",
    "from keras.models import Model\n",
    "from keras.callbacks import ModelCheckpoint\n",
    "from keras.applications.vgg16 import VGG16\n",
    "from keras.applications.vgg16 import preprocess_input\n",
    "\n",
    "import keras_tuner\n",
    "from kerastuner.tuners import RandomSearch\n",
    "\n",
    "from numpy import savez_compressed\n",
    "from numpy import load\n",
    "\n",
    "from datetime import datetime\n",
    "\n",
    "from sklearn.model_selection import train_test_split\n",
    "\n",
    "import warnings\n",
    "warnings.filterwarnings(\"ignore\")"
   ]
  },
  {
   "cell_type": "code",
   "execution_count": 7,
   "metadata": {},
   "outputs": [],
   "source": [
    "(X_train, y_train), (X_test,y_test) = datasets.cifar10.load_data()"
   ]
  },
  {
   "cell_type": "code",
   "execution_count": 8,
   "metadata": {},
   "outputs": [],
   "source": [
    "X_train, X_val, y_train, y_val = train_test_split(X_train, y_train, test_size= 0.2)"
   ]
  },
  {
   "cell_type": "code",
   "execution_count": 9,
   "metadata": {},
   "outputs": [],
   "source": [
    "y_train = y_train.reshape(-1,)\n",
    "y_test = y_test.reshape(-1,)\n",
    "y_val = y_val.reshape(-1,)"
   ]
  },
  {
   "cell_type": "code",
   "execution_count": 10,
   "metadata": {},
   "outputs": [],
   "source": [
    "X_train = X_train / 255.0\n",
    "X_test = X_test / 255.0\n",
    "X_val = X_val / 255.0"
   ]
  },
  {
   "cell_type": "code",
   "execution_count": 11,
   "metadata": {},
   "outputs": [],
   "source": [
    "#sample\n",
    "sample_size= 100\n",
    "\n",
    "sample_i_train = random.sample(range(len(X_train)), round(sample_size*0.6))\n",
    "X_train = X_train[sample_i_train]\n",
    "y_train = y_train[sample_i_train]\n",
    "\n",
    "sample_i_test = random.sample(range(len(X_test)), round(sample_size*0.2))\n",
    "X_test = X_test[sample_i_test]\n",
    "y_test = y_test[sample_i_test]\n",
    "\n",
    "sample_i_val = random.sample(range(len(X_val)), round(sample_size*0.2))\n",
    "X_val = X_val[sample_i_val]\n",
    "y_val = y_val[sample_i_val]"
   ]
  },
  {
   "cell_type": "code",
   "execution_count": null,
   "metadata": {},
   "outputs": [],
   "source": [
    "#https://machinelearningmastery.com/convolutional-layers-for-deep-learning-neural-networks/\n",
    "#https://www.google.com/url?sa=t&rct=j&q=&esrc=s&source=web&cd=&cad=rja&uact=8&ved=2ahUKEwiE0eGZ_qL0AhVrg_0HHebcC6kQFnoECAQQAw&url=https%3A%2F%2Fsicara.ai%2Fblog%2F2019-10-31-convolutional-layer-convolution-kernel&usg=AOvVaw3p8dCzNohorImGouz_x-tg\n",
    "#https://medium.com/analytics-vidhya/how-to-choose-the-size-of-the-convolution-filter-or-kernel-size-for-cnn-86a55a1e2d15"
   ]
  },
  {
   "cell_type": "code",
   "execution_count": 22,
   "metadata": {},
   "outputs": [],
   "source": [
    "def build_cnn(hp):\n",
    "    ####Config####\n",
    "    input_pixels = 32\n",
    "    input_depth = 3\n",
    "    num_outputs = 10\n",
    "    ####Config####\n",
    "\n",
    "    model = tf.keras.Sequential()\n",
    "\n",
    "    num_inputs = input_pixels\n",
    "    num_depth = input_depth\n",
    "\n",
    "    \n",
    "    chc_filters_direction = hp.Choice('chc_filters_direction', [0.5, 1.0, 2.0])\n",
    "\n",
    "    if chc_filters_direction == 0.5:\n",
    "        num_filters = hp.Choice('num_filters_init', [128, 256, 512])\n",
    "    elif chc_filters_direction == 1.0:\n",
    "        num_filters = hp.Choice('num_filters_init', [32, 64, 128, 256, 512])\n",
    "    elif chc_filters_direction == 2.0:\n",
    "        num_filters = hp.Choice('num_filters_init', [32, 64, 128])\n",
    "\n",
    "    num_kernels = hp.Choice('num_filters_init', [3, 5]) \n",
    "    rat_cdropout = hp.Choice('conv_dropout', [0.0,0.1,0.2])\n",
    "\n",
    "    for b in range(hp.Int('num_blocks', 1, 3)):\n",
    "        for c in range(hp.Int('num_clayers', 1, 3)):\n",
    "            model.add(tf.keras.layers.Conv2D(filters= num_filters,\n",
    "                                            kernel_size= (num_kernels,num_kernels),\n",
    "                                            strides=(1, 1),\n",
    "                                            padding=\"same\",\n",
    "                                            activation='relu', \n",
    "                                            input_shape = (num_inputs, num_inputs,num_depth)))\n",
    "\n",
    "            num_inputs = (num_inputs-num_kernels+1)/1 +1 \n",
    "            num_depth = num_filters #todo - drauf achten, dass es nicht zu groß wird.\n",
    "\n",
    "            model.add(tf.keras.layers.Dropout(rate = rat_cdropout))\n",
    "        \n",
    "        model.add(tf.keras.layers.MaxPool2D(pool_size=(2,2), # var idr nur 3 oder 2 <- todo\n",
    "                                            strides = (2,2), #idr immer 2 https://cs231n.github.io/convolutional-networks/#norm\n",
    "                                            padding = \"same\")) \n",
    "        num_inputs = (num_inputs-2)/2 +1\n",
    "        num_filters = num_filters * chc_filters_direction\n",
    "                                            \n",
    "    model.add(tf.keras.layers.Flatten()) #<- todo ob ggf. noch andere Alternative\n",
    "\n",
    "    for d in range(hp.Int('num_dlayers', 1, 3)):\n",
    "        num_units = hp.Int('num_units_' + str(d),min_value=32,max_value=512,step=32)\n",
    "        model.add(tf.keras.layers.Dense(units = num_units, \n",
    "                                        activation='relu'))\n",
    "        model.add(tf.keras.layers.Dropout(rate = 0.5)) #todo var\n",
    "\n",
    "    model.add(tf.keras.layers.Dense(units=num_outputs,\n",
    "                                    activation='softmax'))  \n",
    "\n",
    "    model.compile(\n",
    "        optimizer = \"adam\",\n",
    "        loss = 'sparse_categorical_crossentropy',\n",
    "        metrics=['accuracy', 'sparse_categorical_crossentropy'])\n",
    "\n",
    "    model.summary()\n",
    "\n",
    "\n",
    "    return model"
   ]
  },
  {
   "cell_type": "code",
   "execution_count": 23,
   "metadata": {},
   "outputs": [
    {
     "name": "stdout",
     "output_type": "stream",
     "text": [
      "Model: \"sequential_4\"\n",
      "_________________________________________________________________\n",
      "Layer (type)                 Output Shape              Param #   \n",
      "=================================================================\n",
      "conv2d_1 (Conv2D)            (None, 32, 32, 32)        98336     \n",
      "_________________________________________________________________\n",
      "dropout_1 (Dropout)          (None, 32, 32, 32)        0         \n",
      "_________________________________________________________________\n",
      "max_pooling2d_1 (MaxPooling2 (None, 16, 16, 32)        0         \n",
      "_________________________________________________________________\n",
      "flatten_1 (Flatten)          (None, 8192)              0         \n",
      "_________________________________________________________________\n",
      "dense (Dense)                (None, 32)                262176    \n",
      "_________________________________________________________________\n",
      "dropout_2 (Dropout)          (None, 32)                0         \n",
      "_________________________________________________________________\n",
      "dense_1 (Dense)              (None, 10)                330       \n",
      "=================================================================\n",
      "Total params: 360,842\n",
      "Trainable params: 360,842\n",
      "Non-trainable params: 0\n",
      "_________________________________________________________________\n"
     ]
    }
   ],
   "source": [
    "tuner = RandomSearch(\n",
    "    build_cnn,\n",
    "    objective='val_accuracy',\n",
    "    max_trials=5,\n",
    "    executions_per_trial=3,\n",
    "    directory='tuner',\n",
    "    project_name='cifar_test')"
   ]
  },
  {
   "cell_type": "code",
   "execution_count": 24,
   "metadata": {},
   "outputs": [
    {
     "name": "stdout",
     "output_type": "stream",
     "text": [
      "Search space summary\n",
      "Default search space size: 7\n",
      "num_filters_init (Choice)\n",
      "{'default': 32, 'conditions': [], 'values': [32, 64, 128, 256, 512], 'ordered': True}\n",
      "chc_filters_direction (Choice)\n",
      "{'default': 0.5, 'conditions': [], 'values': [0.5, 1.0, 2.0], 'ordered': True}\n",
      "conv_dropout (Choice)\n",
      "{'default': 0.0, 'conditions': [], 'values': [0.0, 0.1, 0.2], 'ordered': True}\n",
      "num_blocks (Int)\n",
      "{'default': None, 'conditions': [], 'min_value': 1, 'max_value': 3, 'step': 1, 'sampling': None}\n",
      "num_clayers (Int)\n",
      "{'default': None, 'conditions': [], 'min_value': 1, 'max_value': 3, 'step': 1, 'sampling': None}\n",
      "num_dlayers (Int)\n",
      "{'default': None, 'conditions': [], 'min_value': 1, 'max_value': 3, 'step': 1, 'sampling': None}\n",
      "num_units_0 (Int)\n",
      "{'default': None, 'conditions': [], 'min_value': 32, 'max_value': 512, 'step': 32, 'sampling': None}\n"
     ]
    }
   ],
   "source": [
    "tuner.search_space_summary()"
   ]
  },
  {
   "cell_type": "code",
   "execution_count": 25,
   "metadata": {},
   "outputs": [
    {
     "name": "stdout",
     "output_type": "stream",
     "text": [
      "\n",
      "Search: Running Trial #1\n",
      "\n",
      "Hyperparameter    |Value             |Best Value So Far \n",
      "num_filters_init  |512               |?                 \n",
      "chc_filters_dir...|2                 |?                 \n",
      "conv_dropout      |0.1               |?                 \n",
      "num_blocks        |2                 |?                 \n",
      "num_clayers       |2                 |?                 \n",
      "num_dlayers       |1                 |?                 \n",
      "num_units_0       |480               |?                 \n",
      "\n"
     ]
    }
   ],
   "source": [
    "tuner.search(X_train, y_train,\n",
    "             epochs=5,\n",
    "             validation_data=(X_val, y_val))"
   ]
  }
 ],
 "metadata": {
  "interpreter": {
   "hash": "bb9bdcee56917be722df38ee625412b58b389ce2528b7e7a7dddaeab60da1f63"
  },
  "kernelspec": {
   "display_name": "Python 3.8.5 64-bit ('base': conda)",
   "language": "python",
   "name": "python3"
  },
  "language_info": {
   "codemirror_mode": {
    "name": "ipython",
    "version": 3
   },
   "file_extension": ".py",
   "mimetype": "text/x-python",
   "name": "python",
   "nbconvert_exporter": "python",
   "pygments_lexer": "ipython3",
   "version": "3.8.5"
  },
  "orig_nbformat": 4
 },
 "nbformat": 4,
 "nbformat_minor": 2
}
